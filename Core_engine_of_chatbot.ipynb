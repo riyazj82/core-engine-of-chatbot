{
  "nbformat": 4,
  "nbformat_minor": 0,
  "metadata": {
    "colab": {
      "provenance": []
    },
    "kernelspec": {
      "name": "python3",
      "display_name": "Python 3"
    },
    "language_info": {
      "name": "python"
    }
  },
  "cells": [
    {
      "cell_type": "code",
      "execution_count": 1,
      "metadata": {
        "id": "F8cLC1Eq5m-0"
      },
      "outputs": [],
      "source": [
        "import nltk"
      ]
    },
    {
      "cell_type": "code",
      "source": [
        "nltk.download('popular')"
      ],
      "metadata": {
        "colab": {
          "base_uri": "https://localhost:8080/"
        },
        "id": "snRPxy3s5qbl",
        "outputId": "fb53f55f-67fb-4182-82c2-ab1c224cadde"
      },
      "execution_count": 2,
      "outputs": [
        {
          "output_type": "stream",
          "name": "stderr",
          "text": [
            "[nltk_data] Downloading collection 'popular'\n",
            "[nltk_data]    | \n",
            "[nltk_data]    | Downloading package cmudict to /root/nltk_data...\n",
            "[nltk_data]    |   Unzipping corpora/cmudict.zip.\n",
            "[nltk_data]    | Downloading package gazetteers to /root/nltk_data...\n",
            "[nltk_data]    |   Unzipping corpora/gazetteers.zip.\n",
            "[nltk_data]    | Downloading package genesis to /root/nltk_data...\n",
            "[nltk_data]    |   Unzipping corpora/genesis.zip.\n",
            "[nltk_data]    | Downloading package gutenberg to /root/nltk_data...\n",
            "[nltk_data]    |   Unzipping corpora/gutenberg.zip.\n",
            "[nltk_data]    | Downloading package inaugural to /root/nltk_data...\n",
            "[nltk_data]    |   Unzipping corpora/inaugural.zip.\n",
            "[nltk_data]    | Downloading package movie_reviews to\n",
            "[nltk_data]    |     /root/nltk_data...\n",
            "[nltk_data]    |   Unzipping corpora/movie_reviews.zip.\n",
            "[nltk_data]    | Downloading package names to /root/nltk_data...\n",
            "[nltk_data]    |   Unzipping corpora/names.zip.\n",
            "[nltk_data]    | Downloading package shakespeare to /root/nltk_data...\n",
            "[nltk_data]    |   Unzipping corpora/shakespeare.zip.\n",
            "[nltk_data]    | Downloading package stopwords to /root/nltk_data...\n",
            "[nltk_data]    |   Unzipping corpora/stopwords.zip.\n",
            "[nltk_data]    | Downloading package treebank to /root/nltk_data...\n",
            "[nltk_data]    |   Unzipping corpora/treebank.zip.\n",
            "[nltk_data]    | Downloading package twitter_samples to\n",
            "[nltk_data]    |     /root/nltk_data...\n",
            "[nltk_data]    |   Unzipping corpora/twitter_samples.zip.\n",
            "[nltk_data]    | Downloading package omw to /root/nltk_data...\n",
            "[nltk_data]    | Downloading package omw-1.4 to /root/nltk_data...\n",
            "[nltk_data]    | Downloading package wordnet to /root/nltk_data...\n",
            "[nltk_data]    | Downloading package wordnet2021 to /root/nltk_data...\n",
            "[nltk_data]    | Downloading package wordnet31 to /root/nltk_data...\n",
            "[nltk_data]    | Downloading package wordnet_ic to /root/nltk_data...\n",
            "[nltk_data]    |   Unzipping corpora/wordnet_ic.zip.\n",
            "[nltk_data]    | Downloading package words to /root/nltk_data...\n",
            "[nltk_data]    |   Unzipping corpora/words.zip.\n",
            "[nltk_data]    | Downloading package maxent_ne_chunker to\n",
            "[nltk_data]    |     /root/nltk_data...\n",
            "[nltk_data]    |   Unzipping chunkers/maxent_ne_chunker.zip.\n",
            "[nltk_data]    | Downloading package punkt to /root/nltk_data...\n",
            "[nltk_data]    |   Unzipping tokenizers/punkt.zip.\n",
            "[nltk_data]    | Downloading package snowball_data to\n",
            "[nltk_data]    |     /root/nltk_data...\n",
            "[nltk_data]    | Downloading package averaged_perceptron_tagger to\n",
            "[nltk_data]    |     /root/nltk_data...\n",
            "[nltk_data]    |   Unzipping taggers/averaged_perceptron_tagger.zip.\n",
            "[nltk_data]    | \n",
            "[nltk_data]  Done downloading collection popular\n"
          ]
        },
        {
          "output_type": "execute_result",
          "data": {
            "text/plain": [
              "True"
            ]
          },
          "metadata": {},
          "execution_count": 2
        }
      ]
    },
    {
      "cell_type": "code",
      "source": [
        "nltk.download('stopwords')"
      ],
      "metadata": {
        "colab": {
          "base_uri": "https://localhost:8080/"
        },
        "id": "iS7lL2gq5wx0",
        "outputId": "011ac7d1-5a4f-4098-84c9-08d4ba03004e"
      },
      "execution_count": 4,
      "outputs": [
        {
          "output_type": "stream",
          "name": "stderr",
          "text": [
            "[nltk_data] Downloading package stopwords to /root/nltk_data...\n",
            "[nltk_data]   Package stopwords is already up-to-date!\n"
          ]
        },
        {
          "output_type": "execute_result",
          "data": {
            "text/plain": [
              "True"
            ]
          },
          "metadata": {},
          "execution_count": 4
        }
      ]
    },
    {
      "cell_type": "code",
      "source": [
        "import re\n",
        "import os\n",
        "import csv\n",
        "from nltk.stem.snowball import SnowballStemmer\n",
        "import random\n",
        "from nltk.classify import SklearnClassifier\n",
        "from nltk.tokenize import RegexpTokenizer\n",
        "from nltk.corpus import stopwords\n",
        "from nltk.stem.wordnet import WordNetLemmatizer\n",
        "import numpy as np\n",
        "import pandas as pd\n",
        "\n",
        "\n",
        "from IPython.core.interactiveshell import InteractiveShell\n",
        "InteractiveShell.ast_node_interactivity='all'\n",
        "import warnings\n",
        "warnings.filterwarnings('ignore')\n",
        "warnings.filterwarnings(action='ignore',category=DeprecationWarning)\n",
        "\n"
      ],
      "metadata": {
        "id": "w68HERHZ534C"
      },
      "execution_count": 7,
      "outputs": []
    },
    {
      "cell_type": "code",
      "source": [
        "from IPython.display import display\n",
        "pd.set_option('display.max_columns',None)\n",
        "pd.set_option('display.max_rows',None)\n"
      ],
      "metadata": {
        "id": "gmgIhdd862Ey"
      },
      "execution_count": 10,
      "outputs": []
    },
    {
      "cell_type": "code",
      "source": [
        "##Preprocess\n",
        "sentence = \"The Big brown fox jumped over a lazy dog.\"\n",
        "sentence2 = \"This is particularly important in today's world where we are swamped with unstructured natural language data on the variety of social media platforms people engage in now-a-days (note -  now-a-days in the decade of 2010-2020)\""
      ],
      "metadata": {
        "id": "e21U4nhq79SQ"
      },
      "execution_count": 11,
      "outputs": []
    },
    {
      "cell_type": "code",
      "source": [
        "tokenizer=RegexpTokenizer(r\"\\w+\")\n",
        "tokens=tokenizer.tokenize(sentence)\n",
        "tokens"
      ],
      "metadata": {
        "colab": {
          "base_uri": "https://localhost:8080/"
        },
        "id": "bag-yHdp8Lnf",
        "outputId": "766e0b60-fbee-43e2-86af-f10bbee953a2"
      },
      "execution_count": 13,
      "outputs": [
        {
          "output_type": "execute_result",
          "data": {
            "text/plain": [
              "['The', 'Big', 'brown', 'fox', 'jumped', 'over', 'a', 'lazy', 'dog']"
            ]
          },
          "metadata": {},
          "execution_count": 13
        }
      ]
    },
    {
      "cell_type": "code",
      "source": [
        "tokens2 = tokenizer.tokenize(sentence2)\n",
        "tokens2"
      ],
      "metadata": {
        "colab": {
          "base_uri": "https://localhost:8080/"
        },
        "id": "PvbD9vKL9Esq",
        "outputId": "8dbe7283-7e22-4307-b970-7c2baffbb955"
      },
      "execution_count": 14,
      "outputs": [
        {
          "output_type": "execute_result",
          "data": {
            "text/plain": [
              "['This',\n",
              " 'is',\n",
              " 'particularly',\n",
              " 'important',\n",
              " 'in',\n",
              " 'today',\n",
              " 's',\n",
              " 'world',\n",
              " 'where',\n",
              " 'we',\n",
              " 'are',\n",
              " 'swamped',\n",
              " 'with',\n",
              " 'unstructured',\n",
              " 'natural',\n",
              " 'language',\n",
              " 'data',\n",
              " 'on',\n",
              " 'the',\n",
              " 'variety',\n",
              " 'of',\n",
              " 'social',\n",
              " 'media',\n",
              " 'platforms',\n",
              " 'people',\n",
              " 'engage',\n",
              " 'in',\n",
              " 'now',\n",
              " 'a',\n",
              " 'days',\n",
              " 'note',\n",
              " 'now',\n",
              " 'a',\n",
              " 'days',\n",
              " 'in',\n",
              " 'the',\n",
              " 'decade',\n",
              " 'of',\n",
              " '2010',\n",
              " '2020']"
            ]
          },
          "metadata": {},
          "execution_count": 14
        }
      ]
    },
    {
      "cell_type": "code",
      "source": [
        "filtered_words=[w for w in tokens if not w in stopwords.words('english')]\n",
        "filtered_words"
      ],
      "metadata": {
        "colab": {
          "base_uri": "https://localhost:8080/"
        },
        "id": "jDCGytFFA35t",
        "outputId": "802de69a-ed04-4bc8-8b56-04382f61747a"
      },
      "execution_count": 16,
      "outputs": [
        {
          "output_type": "execute_result",
          "data": {
            "text/plain": [
              "['The', 'Big', 'brown', 'fox', 'jumped', 'lazy', 'dog']"
            ]
          },
          "metadata": {},
          "execution_count": 16
        }
      ]
    },
    {
      "cell_type": "code",
      "source": [
        "filtered_words = [w for w in tokens2 if not w in stopwords.words('english')]\n",
        "filtered_words"
      ],
      "metadata": {
        "colab": {
          "base_uri": "https://localhost:8080/"
        },
        "id": "FjFLjJ7-BGYG",
        "outputId": "5b5662fc-5ef1-499d-96fa-43a1cd46508a"
      },
      "execution_count": 17,
      "outputs": [
        {
          "output_type": "execute_result",
          "data": {
            "text/plain": [
              "['This',\n",
              " 'particularly',\n",
              " 'important',\n",
              " 'today',\n",
              " 'world',\n",
              " 'swamped',\n",
              " 'unstructured',\n",
              " 'natural',\n",
              " 'language',\n",
              " 'data',\n",
              " 'variety',\n",
              " 'social',\n",
              " 'media',\n",
              " 'platforms',\n",
              " 'people',\n",
              " 'engage',\n",
              " 'days',\n",
              " 'note',\n",
              " 'days',\n",
              " 'decade',\n",
              " '2010',\n",
              " '2020']"
            ]
          },
          "metadata": {},
          "execution_count": 17
        }
      ]
    },
    {
      "cell_type": "code",
      "source": [
        "def preprocess(sentence):\n",
        "  sentence=sentence.lower()\n",
        "  tokenizer=RegexpTokenizer(r\"\\w+\")\n",
        "  tokens=tokenizer.tokenize(sentence)\n",
        "  filtered_words=[w for w in tokens if not w in stopwords.words('english')]\n",
        "  return filtered_words\n"
      ],
      "metadata": {
        "id": "Xv6D0wW3BOxE"
      },
      "execution_count": 18,
      "outputs": []
    },
    {
      "cell_type": "code",
      "source": [
        "preprocessed_sentence=preprocess(sentence)\n",
        "print(preprocessed_sentence)"
      ],
      "metadata": {
        "colab": {
          "base_uri": "https://localhost:8080/"
        },
        "id": "MvR9kLuLBy2a",
        "outputId": "8e33514d-1050-45ab-c393-f9f612556dca"
      },
      "execution_count": 20,
      "outputs": [
        {
          "output_type": "stream",
          "name": "stdout",
          "text": [
            "['big', 'brown', 'fox', 'jumped', 'lazy', 'dog']\n"
          ]
        }
      ]
    },
    {
      "cell_type": "code",
      "source": [
        "preprocess(sentence2)"
      ],
      "metadata": {
        "colab": {
          "base_uri": "https://localhost:8080/"
        },
        "id": "2NEy7H7xB7LQ",
        "outputId": "ef129def-dd18-42dd-8c62-d903c1b98e59"
      },
      "execution_count": 22,
      "outputs": [
        {
          "output_type": "execute_result",
          "data": {
            "text/plain": [
              "['particularly',\n",
              " 'important',\n",
              " 'today',\n",
              " 'world',\n",
              " 'swamped',\n",
              " 'unstructured',\n",
              " 'natural',\n",
              " 'language',\n",
              " 'data',\n",
              " 'variety',\n",
              " 'social',\n",
              " 'media',\n",
              " 'platforms',\n",
              " 'people',\n",
              " 'engage',\n",
              " 'days',\n",
              " 'note',\n",
              " 'days',\n",
              " 'decade',\n",
              " '2010',\n",
              " '2020']"
            ]
          },
          "metadata": {},
          "execution_count": 22
        }
      ]
    },
    {
      "cell_type": "code",
      "source": [
        "tags=nltk.pos_tag(preprocessed_sentence)\n",
        "print(tags)"
      ],
      "metadata": {
        "colab": {
          "base_uri": "https://localhost:8080/"
        },
        "id": "IzJqFztiCB9p",
        "outputId": "1b8bdeda-b3c0-4e1d-9f44-dc4a06c7427a"
      },
      "execution_count": 23,
      "outputs": [
        {
          "output_type": "stream",
          "name": "stdout",
          "text": [
            "[('big', 'JJ'), ('brown', 'NN'), ('fox', 'NN'), ('jumped', 'VBD'), ('lazy', 'JJ'), ('dog', 'NN')]\n"
          ]
        }
      ]
    },
    {
      "cell_type": "code",
      "source": [
        "tags = nltk.pos_tag(preprocess(sentence2))\n",
        "print(tags)"
      ],
      "metadata": {
        "colab": {
          "base_uri": "https://localhost:8080/"
        },
        "id": "yTV5bbdPCUJe",
        "outputId": "9ea12c4a-6e9b-4865-fbef-2d9075dd53e7"
      },
      "execution_count": 24,
      "outputs": [
        {
          "output_type": "stream",
          "name": "stdout",
          "text": [
            "[('particularly', 'RB'), ('important', 'JJ'), ('today', 'NN'), ('world', 'NN'), ('swamped', 'VBD'), ('unstructured', 'JJ'), ('natural', 'JJ'), ('language', 'NN'), ('data', 'NNS'), ('variety', 'NN'), ('social', 'JJ'), ('media', 'NNS'), ('platforms', 'NNS'), ('people', 'NNS'), ('engage', 'VBP'), ('days', 'NNS'), ('note', 'VBP'), ('days', 'NNS'), ('decade', 'NN'), ('2010', 'CD'), ('2020', 'CD')]\n"
          ]
        }
      ]
    },
    {
      "cell_type": "code",
      "source": [
        "##Extracting only nouns and verb noun from tagged words\n",
        "def extract_tagged(sentences):\n",
        "  features=[]\n",
        "  for word,tag in sentences:\n",
        "    if tag=='NN' or tag == 'VBN' or tag == 'NNS' or tag == 'VBP' or tag == 'RB' or tag == 'VBZ' or tag == 'VBG' or tag =='PRP' or tag == 'JJ':\n",
        "      features.append(word)\n",
        "  return features\n"
      ],
      "metadata": {
        "id": "o0dSV8fpCa9V"
      },
      "execution_count": 26,
      "outputs": []
    },
    {
      "cell_type": "code",
      "source": [
        "extract_tagged(tags)"
      ],
      "metadata": {
        "colab": {
          "base_uri": "https://localhost:8080/"
        },
        "id": "HZfjTVbGDFfW",
        "outputId": "12d6f778-df24-438d-b5a2-f80da50437e1"
      },
      "execution_count": 27,
      "outputs": [
        {
          "output_type": "execute_result",
          "data": {
            "text/plain": [
              "['particularly',\n",
              " 'important',\n",
              " 'today',\n",
              " 'world',\n",
              " 'unstructured',\n",
              " 'natural',\n",
              " 'language',\n",
              " 'data',\n",
              " 'variety',\n",
              " 'social',\n",
              " 'media',\n",
              " 'platforms',\n",
              " 'people',\n",
              " 'engage',\n",
              " 'days',\n",
              " 'note',\n",
              " 'days',\n",
              " 'decade']"
            ]
          },
          "metadata": {},
          "execution_count": 27
        }
      ]
    },
    {
      "cell_type": "code",
      "source": [
        "lemtz=WordNetLemmatizer()"
      ],
      "metadata": {
        "id": "AlEEULzmDNXE"
      },
      "execution_count": 30,
      "outputs": []
    },
    {
      "cell_type": "code",
      "source": [
        "stemmer=SnowballStemmer('english')"
      ],
      "metadata": {
        "id": "k1YyK3TVDUwe"
      },
      "execution_count": 29,
      "outputs": []
    },
    {
      "cell_type": "code",
      "source": [
        "###PUTTING IT ALL TOGETHER\n",
        "def extract_feature(text):\n",
        "  words=preprocess(text)\n",
        "  tags=nltk.pos_tag(words)\n",
        "  extract_features=extract_tagged(tags)\n",
        "  stemmed_words=[stemmer.stem(x) for x in extract_features]\n",
        "  result=[lemtz.lemmatize(x) for x in stemmed_words]\n",
        "  return result"
      ],
      "metadata": {
        "id": "4fU3UJhpDeyH"
      },
      "execution_count": 34,
      "outputs": []
    },
    {
      "cell_type": "code",
      "source": [
        "words=extract_feature(sentence)"
      ],
      "metadata": {
        "id": "8byy65JbEfrT"
      },
      "execution_count": 35,
      "outputs": []
    },
    {
      "cell_type": "code",
      "source": [
        "print(words)"
      ],
      "metadata": {
        "colab": {
          "base_uri": "https://localhost:8080/"
        },
        "id": "9ZFWDycEEpKK",
        "outputId": "ab3c617b-1cbf-4052-b133-df3865018786"
      },
      "execution_count": 36,
      "outputs": [
        {
          "output_type": "stream",
          "name": "stdout",
          "text": [
            "['big', 'brown', 'fox', 'lazi', 'dog']\n"
          ]
        }
      ]
    },
    {
      "cell_type": "code",
      "source": [
        "words = extract_feature(sentence2)\n",
        "print(words)"
      ],
      "metadata": {
        "colab": {
          "base_uri": "https://localhost:8080/"
        },
        "id": "0sh5kW0WEx_L",
        "outputId": "3bdd1d5d-b857-4f5d-ab8a-832ef08d79ed"
      },
      "execution_count": 37,
      "outputs": [
        {
          "output_type": "stream",
          "name": "stdout",
          "text": [
            "['particular', 'import', 'today', 'world', 'unstructur', 'natur', 'languag', 'data', 'varieti', 'social', 'medium', 'platform', 'peopl', 'engag', 'day', 'note', 'day', 'decad']\n"
          ]
        }
      ]
    },
    {
      "cell_type": "code",
      "source": [
        "##Implementing bag of words\n",
        "def word_feats(words):\n",
        "  return dict([(word,True) for word in words])"
      ],
      "metadata": {
        "id": "8CZxLgHCE3Eu"
      },
      "execution_count": 40,
      "outputs": []
    },
    {
      "cell_type": "code",
      "source": [
        "word_feats(words)"
      ],
      "metadata": {
        "colab": {
          "base_uri": "https://localhost:8080/"
        },
        "id": "fVD_jTZIFCnK",
        "outputId": "5ec15d9a-71c3-4086-cea9-d063993b7247"
      },
      "execution_count": 41,
      "outputs": [
        {
          "output_type": "execute_result",
          "data": {
            "text/plain": [
              "{'particular': True,\n",
              " 'import': True,\n",
              " 'today': True,\n",
              " 'world': True,\n",
              " 'unstructur': True,\n",
              " 'natur': True,\n",
              " 'languag': True,\n",
              " 'data': True,\n",
              " 'varieti': True,\n",
              " 'social': True,\n",
              " 'medium': True,\n",
              " 'platform': True,\n",
              " 'peopl': True,\n",
              " 'engag': True,\n",
              " 'day': True,\n",
              " 'note': True,\n",
              " 'decad': True}"
            ]
          },
          "metadata": {},
          "execution_count": 41
        }
      ]
    },
    {
      "cell_type": "code",
      "source": [
        "def extract_features_from_doc(data):\n",
        "  result=[]\n",
        "  corpus=[]\n",
        "  answers={}\n",
        "  for (text,category,answer) in data:\n",
        "    features=extract_feature(text)\n",
        "    corpus.append(features)\n",
        "    result.append((word_feats(features),category))\n",
        "    answers[category]=answer\n",
        "  return (result,sum(corpus,[]),answers)\n",
        "\n"
      ],
      "metadata": {
        "id": "9e6eP42HFY22"
      },
      "execution_count": 58,
      "outputs": []
    },
    {
      "cell_type": "markdown",
      "source": [],
      "metadata": {
        "id": "ftpg3LN4aXas"
      }
    },
    {
      "cell_type": "code",
      "source": [
        "extract_features_from_doc([['this is the input text from the user','category','answer to give']])"
      ],
      "metadata": {
        "colab": {
          "base_uri": "https://localhost:8080/"
        },
        "id": "fAIePsKQIXtv",
        "outputId": "d1f3cc5f-c543-488c-cdde-cf1dacc2af30"
      },
      "execution_count": 59,
      "outputs": [
        {
          "output_type": "execute_result",
          "data": {
            "text/plain": [
              "([({'input': True, 'user': True}, 'category')],\n",
              " ['input', 'user'],\n",
              " {'category': 'answer to give'})"
            ]
          },
          "metadata": {},
          "execution_count": 59
        }
      ]
    },
    {
      "cell_type": "code",
      "source": [
        "def get_content(filename):\n",
        "    doc = os.path.join(filename)\n",
        "    with open(doc, 'r') as content_file:\n",
        "        lines = csv.reader(content_file,delimiter='|')\n",
        "        data = [x for x in lines if len(x) == 3]\n",
        "        return data\n",
        "\n"
      ],
      "metadata": {
        "id": "hnV-R70_IbMG"
      },
      "execution_count": 60,
      "outputs": []
    },
    {
      "cell_type": "code",
      "source": [
        "filename='leaves.txt'\n",
        "data=get_content(filename)\n",
        "\n"
      ],
      "metadata": {
        "id": "Fz3SGGcfVgsk"
      },
      "execution_count": 61,
      "outputs": []
    },
    {
      "cell_type": "code",
      "source": [
        "data"
      ],
      "metadata": {
        "colab": {
          "base_uri": "https://localhost:8080/"
        },
        "id": "66knTcBAYIc2",
        "outputId": "3cc8e121-7e5b-458f-a670-594377206cbc"
      },
      "execution_count": 55,
      "outputs": [
        {
          "output_type": "execute_result",
          "data": {
            "text/plain": [
              "[['Hello',\n",
              "  'Greetings',\n",
              "  'Hello. I am Dexter. I will serve your leave enquiries.'],\n",
              " ['hi hello',\n",
              "  'Greetings',\n",
              "  'Hello. I am Dexter. I will serve your leave enquiries.'],\n",
              " ['hi ',\n",
              "  'Greetings',\n",
              "  'Hello. I am Dexter. I will serve your leave enquiries.'],\n",
              " ['hi', 'Greetings', 'Hello. I am Dexter. I will serve your leave enquiries.'],\n",
              " ['hi', 'Greetings', 'Hello. I am Dexter. I will serve your leave enquiries.'],\n",
              " ['hey',\n",
              "  'Greetings',\n",
              "  'Hello. I am Dexter. I will serve your leave enquiries.'],\n",
              " ['hello, hi',\n",
              "  'Greetings',\n",
              "  'Hello. I am Dexter. I will serve your leave enquiries.'],\n",
              " ['hey',\n",
              "  'Greetings',\n",
              "  'Hello. I am Dexter. I will serve your leave enquiries.'],\n",
              " ['hey, hi',\n",
              "  'Greetings',\n",
              "  'Hello. I am Dexter. I will serve your leave enquiries.'],\n",
              " ['hey, hello',\n",
              "  'Greetings',\n",
              "  'Hello. I am Dexter. I will serve your leave enquiries.'],\n",
              " ['Good morning',\n",
              "  'Morning',\n",
              "  'Good Morning. I am Dexter. I will serve your leave enquiries.'],\n",
              " ['Good afternoon',\n",
              "  'Afternoon',\n",
              "  'Good afternoon. I am Dexter. I will serve your leave enquiries.'],\n",
              " ['Good evening',\n",
              "  'Evening',\n",
              "  'Good evening. I am Dexter. I will serve your leave enquiries.'],\n",
              " ['Good night', 'Goodbye', 'Good night. Take care.'],\n",
              " ['How are you today?', 'Opening', \"I'm fine! Thank you. How can I help you?\"],\n",
              " ['want help', 'Help', 'How can I help you?'],\n",
              " ['need help', 'Help', 'How can I help you?'],\n",
              " ['help me', 'Help', 'How can I help you?'],\n",
              " [\"I don't want your help.\",\n",
              "  'No-Help',\n",
              "  'Ok sir/madam. No problem. Have a nice day.'],\n",
              " [\"I don't want your assistance\",\n",
              "  'No-Help',\n",
              "  'Ok sir/madam. No problem. Have a nice day.'],\n",
              " ['No help required', 'No-Help', 'Ok sir/madam. No problem. Have a nice day.'],\n",
              " ['It has been great talking to you.',\n",
              "  'Closing',\n",
              "  \"It's glad to know that I have been helpful. Have a good day!\"],\n",
              " ['great',\n",
              "  'Closing',\n",
              "  \"It's glad to know that I have been helpful. Have a good day!\"],\n",
              " ['thank you for your help',\n",
              "  'Closing',\n",
              "  \"It's glad to know that I have been helpful. Have a good day!\"],\n",
              " ['thank you',\n",
              "  'Closing',\n",
              "  \"It's glad to know that I have been helpful. Have a good day!\"],\n",
              " ['thank you very much',\n",
              "  'Closing',\n",
              "  \"It's glad to know that I have been helpful. Have a good day!\"],\n",
              " ['thanks.',\n",
              "  'Closing',\n",
              "  \"You're welcome!It's glad to know that I have been helpful. Have a good day!\"],\n",
              " ['thanks very much',\n",
              "  'Closing',\n",
              "  \"It's glad to know that I have been helpful. Have a good day!\"],\n",
              " ['How many types of leaves are there?',\n",
              "  'Leaves-Type',\n",
              "  'Currently I know about two: annual and optional leaves.'],\n",
              " ['types of leaves?',\n",
              "  'Leaves-Type',\n",
              "  'Currently I know about two: annual and optional leaves.'],\n",
              " ['type leaves?',\n",
              "  'Leaves-Type',\n",
              "  'Currently I know about two: annual and optional leaves.'],\n",
              " ['leave type?',\n",
              "  'Leaves-Type',\n",
              "  'Currently I know about two: annual and optional leaves.'],\n",
              " ['leaves type?',\n",
              "  'Leaves-Type',\n",
              "  'Currently I know about two: annual and optional leaves.'],\n",
              " ['How many leaves have I taken?',\n",
              "  'Default-Utilized-Annual-Leaves',\n",
              "  'You have used 12 annual leaves.'],\n",
              " ['How many leaves I have already taken?',\n",
              "  'Default-Utilized-Annual-Leaves',\n",
              "  'You have used 12 annual leaves.'],\n",
              " ['how many annual leaves I took?',\n",
              "  'Utilized-Annual-Leaves',\n",
              "  'You have taken 12 annual leaves.'],\n",
              " ['How many annual leaves have I taken?',\n",
              "  'Utilized-Annual-Leaves',\n",
              "  'You have taken 12 annual leaves.'],\n",
              " ['How many annual leaves I have already taken?',\n",
              "  'Utilized-Annual-Leaves',\n",
              "  'You have taken 12 annual leaves.'],\n",
              " ['Tell me the annual leaves count I have taken?',\n",
              "  'Utilized-Annual-Leaves',\n",
              "  'You have taken 12 annual leaves.'],\n",
              " ['How many annual leaves have I taken?',\n",
              "  'Utilized-Annual-Leaves',\n",
              "  'You have taken 12 annual leaves.'],\n",
              " ['number of annual leaves taken?',\n",
              "  'Utilized-Annual-Leaves',\n",
              "  'You have taken 12 annual leaves.'],\n",
              " ['annual leaves taken?',\n",
              "  'Utilized-Annual-Leaves',\n",
              "  'You have taken 12 annual leaves.'],\n",
              " ['number of annual leaves already taken?',\n",
              "  'Utilized-Annual-Leaves',\n",
              "  'You have taken 12 annual leaves.'],\n",
              " ['annual leaves taken?',\n",
              "  'Utilized-Annual-Leaves',\n",
              "  'You have taken 12 annual leaves.'],\n",
              " ['annual leaves already taken?',\n",
              "  'Utilized-Annual-Leaves',\n",
              "  'You have taken 12 annual leaves.'],\n",
              " ['Tell me number of annual leaves I have taken',\n",
              "  'Utilized-Annual-Leaves',\n",
              "  'You have taken 12 annual leaves.'],\n",
              " ['number of annual leaves used?',\n",
              "  'Utilized-Annual-Leaves',\n",
              "  'You have taken 12 annual leaves.'],\n",
              " ['my taken annual leaves',\n",
              "  'Utilized-Annual-Leaves',\n",
              "  'You have taken 12 annual leaves.'],\n",
              " ['annual leaves used?',\n",
              "  'Utilized-Annual-Leaves',\n",
              "  'You have taken 12 annual leaves.'],\n",
              " ['How many optional leaves have I taken',\n",
              "  'Utilized-Optional-Leaves',\n",
              "  'You have taken 1 optional leaves.'],\n",
              " ['How many optional leaves I took',\n",
              "  'Utilized-Optional-Leaves',\n",
              "  'You have taken 1 optional leaves.'],\n",
              " ['optional leaves taken',\n",
              "  'Utilized-Optional-Leaves',\n",
              "  'You have taken 1 optional leaves.'],\n",
              " ['number of optional leaves I have taken?',\n",
              "  'Utilized-Optional-Leaves',\n",
              "  'You have taken 1 optional leaves.'],\n",
              " ['tell me the optional leaves count I have taken',\n",
              "  'Utilized-Optional-Leaves',\n",
              "  'You have taken 1 optional leaves.'],\n",
              " ['tell me number of optional leaves I have taken',\n",
              "  'Utilized-Optional-Leaves',\n",
              "  'You have taken 1 optional leaves.'],\n",
              " ['can you tell me number of optional leaves I have taken',\n",
              "  'Utilized-Optional-Leaves',\n",
              "  'You have taken 1 optional leaves.'],\n",
              " ['please tell me number of optional leaves I have taken',\n",
              "  'Utilized-Optional-Leaves',\n",
              "  'You have taken 1 optional leaves.'],\n",
              " ['How many optional leaves have I taken?',\n",
              "  'Utilized-Optional-Leaves',\n",
              "  'You have taken 1 optional leaves.'],\n",
              " ['number of optional leaves taken?',\n",
              "  'Utilized-Optional-Leaves',\n",
              "  'You have taken 1 optional leaves.'],\n",
              " ['number of optional leaves already taken?',\n",
              "  'Utilized-Optional-Leaves',\n",
              "  'You have taken 1 optional leaves.'],\n",
              " ['optional leaves taken?',\n",
              "  'Utilized-Optional-Leaves',\n",
              "  'You have taken 1 optional leaves.'],\n",
              " ['optional leaves already taken?',\n",
              "  'Utilized-Optional-Leaves',\n",
              "  'You have taken 1 optional leaves.'],\n",
              " ['please tell me number of optional leaves I have used.',\n",
              "  'Utilized-Optional-Leaves',\n",
              "  'You have taken 1 optional leaves.'],\n",
              " ['please tell me number of optional leaves I have used',\n",
              "  'Utilized-Optional-Leaves',\n",
              "  'You have taken 1 optional leaves.'],\n",
              " ['tell me the optional leaves count I have used.',\n",
              "  'Utilized-Optional-Leaves',\n",
              "  'You have taken 1 optional leaves.'],\n",
              " ['tell me the optional leaves count I have used',\n",
              "  'Utilized-Optional-Leaves',\n",
              "  'You have taken 1 optional leaves.'],\n",
              " ['the optional leaves count I have used',\n",
              "  'Utilized-Optional-Leaves',\n",
              "  'You have taken 1 optional leaves.'],\n",
              " ['the optional leaves count I have used?',\n",
              "  'Utilized-Optional-Leaves',\n",
              "  'You have taken 1 optional leaves.'],\n",
              " ['tell me the optional leaves count I have taken',\n",
              "  'Utilized-Optional-Leaves',\n",
              "  'You have taken 1 optional leaves.'],\n",
              " ['tell me the optional leaves count I have taken',\n",
              "  'Utilized-Optional-Leaves',\n",
              "  'You have taken 1 optional leaves.'],\n",
              " ['tell me the optional leaves count I have taken',\n",
              "  'Utilized-Optional-Leaves',\n",
              "  'You have taken 1 optional leaves.'],\n",
              " ['How many optional leaves have I used',\n",
              "  'Utilized-Optional-Leaves',\n",
              "  'You have taken 1 optional leaves.'],\n",
              " ['How many optional leaves have I used?',\n",
              "  'Utilized-Optional-Leaves',\n",
              "  'You have taken 1 optional leaves.'],\n",
              " ['number of optional leaves used?',\n",
              "  'Utilized-Optional-Leaves',\n",
              "  'You have taken 1 optional leaves.'],\n",
              " ['optional leaves used?',\n",
              "  'Utilized-Optional-Leaves',\n",
              "  'You have taken 1 optional leaves.'],\n",
              " ['How many leaves do I have?',\n",
              "  'Default-Balance-Annual-Leaves',\n",
              "  'You have 25 annual leaves left.'],\n",
              " ['How many leaves can I take?',\n",
              "  'Default-Balance-Annual-Leaves',\n",
              "  'You have 25 annual leaves left.'],\n",
              " ['How many leaves are remaining?',\n",
              "  'Default-Balance-Annual-Leaves',\n",
              "  'You have 25 annual leaves left.'],\n",
              " ['remaining leaves.',\n",
              "  'Default-Balance-Annual-Leaves',\n",
              "  'You have 25 annual leaves left.'],\n",
              " ['What are my leaves?',\n",
              "  'Default-Balance-Annual-Leaves',\n",
              "  'You have 25 annual leaves left.'],\n",
              " ['Tell me my leave balance.',\n",
              "  'Default-Balance-Annual-Leaves',\n",
              "  'You have 25 annual leaves left.'],\n",
              " ['my remaining leaves.',\n",
              "  'Default-Balance-Annual-Leaves',\n",
              "  'You have 25 annual leaves left.'],\n",
              " ['leave balance.',\n",
              "  'Default-Balance-Annual-Leaves',\n",
              "  'You have 25 annual leaves left.'],\n",
              " ['leaves pending.',\n",
              "  'Default-Balance-Annual-Leaves',\n",
              "  'You have 25 annual leaves left.'],\n",
              " ['tell me the annual leaves count I have remaining',\n",
              "  'Balance-Annual-Leaves',\n",
              "  'You have 25 annual leaves remaining.'],\n",
              " ['How many annual leaves do I have?',\n",
              "  'Balance-Annual-Leaves',\n",
              "  'You have 25 annual leaves remaining.'],\n",
              " ['What are my annual leaves?',\n",
              "  'Balance-Annual-Leaves',\n",
              "  'You have 25 annual leaves remaining.'],\n",
              " ['What is my annual leave balance?',\n",
              "  'Balance-Annual-Leaves',\n",
              "  'You have 25 annual leaves remaining.'],\n",
              " ['Tell me my annual leaves.',\n",
              "  'Balance-Annual-Leaves',\n",
              "  'You have 25 annual leaves remaining.'],\n",
              " ['How many annual leaves are remaining?',\n",
              "  'Balance-Annual-Leaves',\n",
              "  'You have 25 annual leaves remaining.'],\n",
              " ['Tell me my annual leaves remaining',\n",
              "  'Balance-Annual-Leaves',\n",
              "  'You have 25 annual leaves remaining.'],\n",
              " ['remaining annual leaves.',\n",
              "  'Balance-Annual-Leaves',\n",
              "  'You have 25 annual leaves remaining.'],\n",
              " ['annual leaves remaining.',\n",
              "  'Balance-Annual-Leaves',\n",
              "  'You have 25 annual leaves remaining.'],\n",
              " ['number of annual leaves remaining.',\n",
              "  'Balance-Annual-Leaves',\n",
              "  'You have 25 annual leaves remaining.'],\n",
              " ['number of annual leaves I have?',\n",
              "  'Balance-Annual-Leaves',\n",
              "  'You have 25 annual leaves remaining.'],\n",
              " ['annual leaves remaining.',\n",
              "  'Balance-Annual-Leaves',\n",
              "  'You have 25 annual leaves remaining.'],\n",
              " ['Please tell me the annual leaves count I have remaining.',\n",
              "  'Balance-Annual-Leaves',\n",
              "  'You have 25 annual leaves remaining.'],\n",
              " ['Tell me the annual leaves count I have remaining.',\n",
              "  'Balance-Annual-Leaves',\n",
              "  'You have 25 annual leaves remaining.'],\n",
              " ['the annual leaves count I have remaining.',\n",
              "  'Balance-Annual-Leaves',\n",
              "  'You have 25 annual leaves remaining.'],\n",
              " ['my annual leaves count remaining.',\n",
              "  'Balance-Annual-Leaves',\n",
              "  'You have 25 annual leaves remaining.'],\n",
              " ['Tell me my annual leave balance.',\n",
              "  'Balance-Annual-Leaves',\n",
              "  'You have 25 annual leaves remaining.'],\n",
              " ['annual leave balance.',\n",
              "  'Balance-Annual-Leaves',\n",
              "  'You have 25 annual leaves remaining.'],\n",
              " ['annual leaves.',\n",
              "  'Balance-Annual-Leaves',\n",
              "  'You have 25 annual leaves remaining.'],\n",
              " ['can you tell me number of annual leaves I have remaining',\n",
              "  'Balance-Annual-Leaves',\n",
              "  'You have 25 annual leaves remaining.'],\n",
              " ['please tell me number of annual leaves I have remaining',\n",
              "  'Balance-Annual-Leaves',\n",
              "  'You have 25 annual leaves remaining.'],\n",
              " ['How many optional leaves are remaining?',\n",
              "  'Balance-Optional-Leaves',\n",
              "  'You have 2 optional leaves remaining.'],\n",
              " ['optional leaves remaining?',\n",
              "  'Balance-Optional-Leaves',\n",
              "  'You have 2 optional leaves remaining.'],\n",
              " ['number of optional leaves I have remaining?',\n",
              "  'Balance-Optional-Leaves',\n",
              "  'You have 2 optional leaves remaining.'],\n",
              " ['How many optional leaves do I have?',\n",
              "  'Balance-Optional-Leaves',\n",
              "  'You have 2 optional leaves remaining.'],\n",
              " ['How many optional leaves do I have',\n",
              "  'Balance-Optional-Leaves',\n",
              "  'You have 2 optional leaves remaining.'],\n",
              " ['Tell me my optional leave balance?',\n",
              "  'Balance-Optional-Leaves',\n",
              "  'You have 2 optional leaves remaining.'],\n",
              " ['Tell me my optional leaves left?',\n",
              "  'Balance-Optional-Leaves',\n",
              "  'You have 2 optional leaves remaining.'],\n",
              " ['How many optional leaves can I take?',\n",
              "  'Balance-Optional-Leaves',\n",
              "  'You have 2 optional leaves remaining.'],\n",
              " ['optional leaves take?',\n",
              "  'Balance-Optional-Leaves',\n",
              "  'You have 2 optional leaves remaining.'],\n",
              " ['How many optional leaves I have?',\n",
              "  'Balance-Optional-Leaves',\n",
              "  'You have 2 optional leaves remaining.'],\n",
              " ['Tell me my optional leave balance.',\n",
              "  'Balance-Optional-Leaves',\n",
              "  'You have 2 optional leaves remaining.'],\n",
              " ['tell me the optional leaves count I have remaining',\n",
              "  'Balance-Optional-Leaves',\n",
              "  'You have 2 optional leaves remaining.'],\n",
              " ['optional leaves.',\n",
              "  'Balance-Optional-Leaves',\n",
              "  'You have 2 optional leaves remaining.'],\n",
              " ['optional leaves?',\n",
              "  'Balance-Optional-Leaves',\n",
              "  'You have 2 optional leaves remaining.'],\n",
              " ['optional leave balance',\n",
              "  'Balance-Optional-Leaves',\n",
              "  'You have 2 optional leaves remaining.'],\n",
              " ['optional',\n",
              "  'Balance-Optional-Leaves',\n",
              "  'You have 2 optional leaves remaining.'],\n",
              " ['Tell me the optional leaves count I have remaining.',\n",
              "  'Balance-Optional-Leaves',\n",
              "  'You have 2 optional leaves remaining.'],\n",
              " ['the optional leaves count I have remaining?',\n",
              "  'Balance-Optional-Leaves',\n",
              "  'You have 2 optional leaves remaining.'],\n",
              " ['my optional leaves count remaining.',\n",
              "  'Balance-Optional-Leaves',\n",
              "  'You have 2 optional leaves remaining.'],\n",
              " ['please tell me number of optional leaves I have remaining',\n",
              "  'Balance-Optional-Leaves',\n",
              "  'You have 2 optional leaves remaining.'],\n",
              " ['please tell me number of optional leaves I have remaining.',\n",
              "  'Balance-Optional-Leaves',\n",
              "  'You have 2 optional leaves remaining.'],\n",
              " ['number of optional leaves I have remaining.',\n",
              "  'Balance-Optional-Leaves',\n",
              "  'You have 2 optional leaves remaining.'],\n",
              " ['number of optional leaves I have',\n",
              "  'Balance-Optional-Leaves',\n",
              "  'You have 2 optional leaves remaining.'],\n",
              " ['number of optional leaves?',\n",
              "  'Balance-Optional-Leaves',\n",
              "  'You have 2 optional leaves remaining.'],\n",
              " ['How many carry forward leaves do I have?',\n",
              "  'CF',\n",
              "  'You have 30 carry forward leaves.'],\n",
              " ['number of carry forward leaves I have?',\n",
              "  'CF',\n",
              "  'You have 30 carry forward leaves.'],\n",
              " ['tell me the carry forward leaves count I have',\n",
              "  'CF',\n",
              "  'You have 30 carry forward leaves.'],\n",
              " ['tell me number of carry forward leaves I have',\n",
              "  'CF',\n",
              "  'You have 30 carry forward leaves.'],\n",
              " ['can you tell me number of carry forward leaves I have',\n",
              "  'CF',\n",
              "  'You have 30 carry forward leaves.'],\n",
              " ['please tell me number of carry forward leaves I have',\n",
              "  'CF',\n",
              "  'You have 30 carry forward leaves.'],\n",
              " ['How many carry forwards do I have from previous year?',\n",
              "  'CF',\n",
              "  'You have 30 carry forward leaves.'],\n",
              " ['Tell me my carry forward leaves from previous year',\n",
              "  'CF',\n",
              "  'You have 30 carry forward leaves.'],\n",
              " ['Tell me my carry forward leaves',\n",
              "  'CF',\n",
              "  'You have 30 carry forward leaves.'],\n",
              " ['Tell me carry forward leaves', 'CF', 'You have 30 carry forward leaves.'],\n",
              " ['carry forward leaves', 'CF', 'You have 30 carry forward leaves.'],\n",
              " ['carry forward leave', 'CF', 'You have 30 carry forward leaves.'],\n",
              " ['carry forward', 'CF', 'You have 30 carry forward leaves.'],\n",
              " ['previous year carry forward leaves',\n",
              "  'CF',\n",
              "  'You have 30 carry forward leaves.']]"
            ]
          },
          "metadata": {},
          "execution_count": 55
        }
      ]
    },
    {
      "cell_type": "code",
      "source": [
        "features_data,corpus,answers=extract_features_from_doc(data)"
      ],
      "metadata": {
        "id": "Ldhw5BrvZPiZ"
      },
      "execution_count": 62,
      "outputs": []
    },
    {
      "cell_type": "code",
      "source": [
        "print((features_data)[50])"
      ],
      "metadata": {
        "colab": {
          "base_uri": "https://localhost:8080/"
        },
        "id": "PIRIEB6EadoZ",
        "outputId": "0ddd93ed-cdba-4fb3-f850-a2bae7d8bc2d"
      },
      "execution_count": 63,
      "outputs": [
        {
          "output_type": "stream",
          "name": "stdout",
          "text": [
            "({'mani': True, 'option': True, 'leav': True}, 'Utilized-Optional-Leaves')\n"
          ]
        }
      ]
    },
    {
      "cell_type": "code",
      "source": [
        "print(corpus)"
      ],
      "metadata": {
        "colab": {
          "base_uri": "https://localhost:8080/"
        },
        "id": "NpuYfUZxaogJ",
        "outputId": "346a23ad-4a18-4b79-8e9f-37784bb768ea"
      },
      "execution_count": 65,
      "outputs": [
        {
          "output_type": "stream",
          "name": "stdout",
          "text": [
            "['hello', 'hi', 'hello', 'hi', 'hi', 'hi', 'hey', 'hello', 'hi', 'hey', 'hey', 'hi', 'hey', 'hello', 'good', 'morn', 'good', 'afternoon', 'good', 'even', 'good', 'night', 'today', 'want', 'help', 'need', 'help', 'help', 'want', 'help', 'want', 'assist', 'help', 'great', 'talk', 'great', 'thank', 'help', 'thank', 'thank', 'much', 'thank', 'thank', 'much', 'mani', 'type', 'leav', 'type', 'leav', 'type', 'leav', 'type', 'leav', 'type', 'mani', 'leav', 'taken', 'mani', 'leav', 'alreadi', 'taken', 'mani', 'annual', 'leav', 'mani', 'annual', 'leav', 'taken', 'mani', 'annual', 'leav', 'alreadi', 'taken', 'annual', 'leav', 'count', 'taken', 'mani', 'annual', 'leav', 'taken', 'number', 'annual', 'leav', 'taken', 'annual', 'leav', 'taken', 'number', 'annual', 'leav', 'alreadi', 'taken', 'annual', 'leav', 'taken', 'annual', 'leav', 'alreadi', 'taken', 'number', 'annual', 'leav', 'taken', 'number', 'annual', 'leav', 'taken', 'annual', 'leav', 'annual', 'leav', 'mani', 'option', 'leav', 'taken', 'mani', 'option', 'leav', 'option', 'leav', 'taken', 'number', 'option', 'leav', 'taken', 'option', 'leav', 'count', 'taken', 'number', 'option', 'leav', 'taken', 'number', 'option', 'leav', 'taken', 'number', 'option', 'leav', 'taken', 'mani', 'option', 'leav', 'taken', 'number', 'option', 'leav', 'taken', 'number', 'option', 'leav', 'alreadi', 'taken', 'option', 'leav', 'taken', 'option', 'leav', 'alreadi', 'taken', 'number', 'option', 'leav', 'number', 'option', 'leav', 'option', 'leav', 'count', 'use', 'option', 'leav', 'count', 'use', 'option', 'leav', 'count', 'use', 'option', 'leav', 'count', 'use', 'option', 'leav', 'count', 'taken', 'option', 'leav', 'count', 'taken', 'option', 'leav', 'count', 'taken', 'mani', 'option', 'leav', 'mani', 'option', 'leav', 'number', 'option', 'leav', 'option', 'leav', 'mani', 'leav', 'mani', 'leav', 'take', 'mani', 'leav', 'remain', 'remain', 'leav', 'leav', 'tell', 'leav', 'balanc', 'remain', 'leav', 'leav', 'balanc', 'leav', 'pend', 'annual', 'leav', 'count', 'remain', 'mani', 'annual', 'leav', 'annual', 'leav', 'annual', 'leav', 'balanc', 'annual', 'leav', 'mani', 'annual', 'leav', 'remain', 'annual', 'leav', 'remain', 'remain', 'annual', 'leav', 'annual', 'leav', 'remain', 'number', 'annual', 'leav', 'remain', 'number', 'annual', 'leav', 'annual', 'leav', 'remain', 'annual', 'leav', 'count', 'remain', 'annual', 'leav', 'count', 'remain', 'annual', 'leav', 'count', 'remain', 'annual', 'leav', 'count', 'remain', 'annual', 'leav', 'balanc', 'annual', 'leav', 'balanc', 'annual', 'leav', 'number', 'annual', 'leav', 'remain', 'number', 'annual', 'leav', 'remain', 'mani', 'option', 'leav', 'remain', 'option', 'leav', 'remain', 'number', 'option', 'leav', 'remain', 'mani', 'option', 'leav', 'mani', 'option', 'leav', 'option', 'leav', 'balanc', 'option', 'leav', 'mani', 'option', 'leav', 'take', 'option', 'leav', 'take', 'mani', 'option', 'leav', 'option', 'leav', 'balanc', 'option', 'leav', 'count', 'remain', 'option', 'leav', 'option', 'leav', 'option', 'leav', 'balanc', 'option', 'option', 'leav', 'count', 'remain', 'option', 'leav', 'count', 'remain', 'option', 'leav', 'count', 'remain', 'number', 'option', 'leav', 'remain', 'number', 'option', 'leav', 'remain', 'number', 'option', 'leav', 'remain', 'number', 'option', 'leav', 'number', 'option', 'leav', 'mani', 'carri', 'forward', 'leav', 'number', 'carri', 'forward', 'leav', 'tell', 'carri', 'forward', 'leav', 'count', 'number', 'forward', 'leav', 'number', 'forward', 'leav', 'number', 'forward', 'leav', 'mani', 'carri', 'forward', 'previous', 'year', 'tell', 'carri', 'forward', 'leav', 'previous', 'year', 'tell', 'carri', 'forward', 'leav', 'tell', 'carri', 'forward', 'leav', 'forward', 'leav', 'carri', 'forward', 'leav', 'carri', 'forward', 'previous', 'year', 'carri', 'forward', 'leav']\n"
          ]
        }
      ]
    },
    {
      "cell_type": "code",
      "source": [
        "answers"
      ],
      "metadata": {
        "colab": {
          "base_uri": "https://localhost:8080/"
        },
        "id": "qWpeFR2JarV2",
        "outputId": "07769701-d7a3-46a9-e77a-84888741a062"
      },
      "execution_count": 66,
      "outputs": [
        {
          "output_type": "execute_result",
          "data": {
            "text/plain": [
              "{'Greetings': 'Hello. I am Dexter. I will serve your leave enquiries.',\n",
              " 'Morning': 'Good Morning. I am Dexter. I will serve your leave enquiries.',\n",
              " 'Afternoon': 'Good afternoon. I am Dexter. I will serve your leave enquiries.',\n",
              " 'Evening': 'Good evening. I am Dexter. I will serve your leave enquiries.',\n",
              " 'Goodbye': 'Good night. Take care.',\n",
              " 'Opening': \"I'm fine! Thank you. How can I help you?\",\n",
              " 'Help': 'How can I help you?',\n",
              " 'No-Help': 'Ok sir/madam. No problem. Have a nice day.',\n",
              " 'Closing': \"It's glad to know that I have been helpful. Have a good day!\",\n",
              " 'Leaves-Type': 'Currently I know about two: annual and optional leaves.',\n",
              " 'Default-Utilized-Annual-Leaves': 'You have used 12 annual leaves.',\n",
              " 'Utilized-Annual-Leaves': 'You have taken 12 annual leaves.',\n",
              " 'Utilized-Optional-Leaves': 'You have taken 1 optional leaves.',\n",
              " 'Default-Balance-Annual-Leaves': 'You have 25 annual leaves left.',\n",
              " 'Balance-Annual-Leaves': 'You have 25 annual leaves remaining.',\n",
              " 'Balance-Optional-Leaves': 'You have 2 optional leaves remaining.',\n",
              " 'CF': 'You have 30 carry forward leaves.'}"
            ]
          },
          "metadata": {},
          "execution_count": 66
        }
      ]
    },
    {
      "cell_type": "code",
      "source": [
        "split_ratio=0.8"
      ],
      "metadata": {
        "id": "3Eu9L6P-a3jK"
      },
      "execution_count": 68,
      "outputs": []
    },
    {
      "cell_type": "code",
      "source": [
        "def split_dataset(data,split_ratio):\n",
        "  random.shuffle(data)\n",
        "  data_length=len(data)\n",
        "  train_split=int(data_length * split_ratio)\n",
        "  return (data[:train_split]),(data[train_split:])"
      ],
      "metadata": {
        "id": "4PV2G6b5fn0j"
      },
      "execution_count": 71,
      "outputs": []
    },
    {
      "cell_type": "code",
      "source": [
        "trainingdata,testdata=split_dataset(features_data,split_ratio)"
      ],
      "metadata": {
        "id": "qptcFXP4gRiu"
      },
      "execution_count": 73,
      "outputs": []
    },
    {
      "cell_type": "code",
      "source": [
        "trainingdata"
      ],
      "metadata": {
        "colab": {
          "base_uri": "https://localhost:8080/"
        },
        "id": "rlKGnDeegab0",
        "outputId": "9e12dbb0-4a2b-40bc-e713-d23e4aa9e6f8"
      },
      "execution_count": 75,
      "outputs": [
        {
          "output_type": "execute_result",
          "data": {
            "text/plain": [
              "[({'forward': True, 'leav': True}, 'CF'),\n",
              " ({'taken': True, 'annual': True, 'leav': True}, 'Utilized-Annual-Leaves'),\n",
              " ({'annual': True, 'leav': True, 'remain': True}, 'Balance-Annual-Leaves'),\n",
              " ({'type': True}, 'Leaves-Type'),\n",
              " ({'number': True, 'option': True, 'leav': True}, 'Utilized-Optional-Leaves'),\n",
              " ({'today': True}, 'Opening'),\n",
              " ({'hey': True}, 'Greetings'),\n",
              " ({'option': True}, 'Balance-Optional-Leaves'),\n",
              " ({'number': True,\n",
              "   'option': True,\n",
              "   'leav': True,\n",
              "   'alreadi': True,\n",
              "   'taken': True},\n",
              "  'Utilized-Optional-Leaves'),\n",
              " ({'annual': True, 'leav': True, 'remain': True}, 'Balance-Annual-Leaves'),\n",
              " ({'mani': True,\n",
              "   'carri': True,\n",
              "   'forward': True,\n",
              "   'previous': True,\n",
              "   'year': True},\n",
              "  'CF'),\n",
              " ({'help': True}, 'No-Help'),\n",
              " ({'hi': True}, 'Greetings'),\n",
              " ({'want': True, 'assist': True}, 'No-Help'),\n",
              " ({'hi': True, 'hello': True}, 'Greetings'),\n",
              " ({'number': True, 'option': True, 'leav': True}, 'Utilized-Optional-Leaves'),\n",
              " ({'hello': True, 'hi': True}, 'Greetings'),\n",
              " ({'tell': True, 'carri': True, 'forward': True, 'leav': True}, 'CF'),\n",
              " ({'mani': True, 'annual': True, 'leav': True, 'remain': True},\n",
              "  'Balance-Annual-Leaves'),\n",
              " ({'mani': True, 'option': True, 'leav': True, 'taken': True},\n",
              "  'Utilized-Optional-Leaves'),\n",
              " ({'thank': True}, 'Closing'),\n",
              " ({'number': True, 'forward': True, 'leav': True}, 'CF'),\n",
              " ({'mani': True, 'option': True, 'leav': True}, 'Balance-Optional-Leaves'),\n",
              " ({'remain': True, 'leav': True}, 'Default-Balance-Annual-Leaves'),\n",
              " ({'option': True, 'leav': True, 'count': True, 'use': True},\n",
              "  'Utilized-Optional-Leaves'),\n",
              " ({'number': True, 'annual': True, 'leav': True, 'taken': True},\n",
              "  'Utilized-Annual-Leaves'),\n",
              " ({'thank': True, 'much': True}, 'Closing'),\n",
              " ({'annual': True, 'leav': True, 'count': True, 'remain': True},\n",
              "  'Balance-Annual-Leaves'),\n",
              " ({'number': True, 'option': True, 'leav': True, 'remain': True},\n",
              "  'Balance-Optional-Leaves'),\n",
              " ({'good': True, 'night': True}, 'Goodbye'),\n",
              " ({'number': True, 'option': True, 'leav': True, 'remain': True},\n",
              "  'Balance-Optional-Leaves'),\n",
              " ({'mani': True, 'option': True, 'leav': True, 'take': True},\n",
              "  'Balance-Optional-Leaves'),\n",
              " ({'mani': True, 'option': True, 'leav': True}, 'Balance-Optional-Leaves'),\n",
              " ({'option': True, 'leav': True, 'balanc': True}, 'Balance-Optional-Leaves'),\n",
              " ({'mani': True, 'option': True, 'leav': True}, 'Utilized-Optional-Leaves'),\n",
              " ({'option': True, 'leav': True, 'balanc': True}, 'Balance-Optional-Leaves'),\n",
              " ({'number': True, 'option': True, 'leav': True, 'remain': True},\n",
              "  'Balance-Optional-Leaves'),\n",
              " ({'option': True, 'leav': True, 'taken': True}, 'Utilized-Optional-Leaves'),\n",
              " ({'number': True, 'forward': True, 'leav': True}, 'CF'),\n",
              " ({'annual': True, 'leav': True, 'balanc': True}, 'Balance-Annual-Leaves'),\n",
              " ({'option': True, 'leav': True, 'take': True}, 'Balance-Optional-Leaves'),\n",
              " ({'mani': True, 'carri': True, 'forward': True, 'leav': True}, 'CF'),\n",
              " ({'option': True, 'leav': True, 'count': True, 'use': True},\n",
              "  'Utilized-Optional-Leaves'),\n",
              " ({'tell': True, 'leav': True, 'balanc': True},\n",
              "  'Default-Balance-Annual-Leaves'),\n",
              " ({'option': True, 'leav': True}, 'Utilized-Optional-Leaves'),\n",
              " ({'number': True, 'option': True, 'leav': True}, 'Utilized-Optional-Leaves'),\n",
              " ({'annual': True, 'leav': True, 'count': True, 'remain': True},\n",
              "  'Balance-Annual-Leaves'),\n",
              " ({'number': True, 'forward': True, 'leav': True}, 'CF'),\n",
              " ({'mani': True, 'annual': True, 'leav': True, 'alreadi': True, 'taken': True},\n",
              "  'Utilized-Annual-Leaves'),\n",
              " ({'number': True, 'option': True, 'leav': True, 'taken': True},\n",
              "  'Utilized-Optional-Leaves'),\n",
              " ({'number': True, 'option': True, 'leav': True, 'taken': True},\n",
              "  'Utilized-Optional-Leaves'),\n",
              " ({'mani': True, 'option': True, 'leav': True, 'taken': True},\n",
              "  'Utilized-Optional-Leaves'),\n",
              " ({'number': True, 'annual': True, 'leav': True, 'taken': True},\n",
              "  'Utilized-Annual-Leaves'),\n",
              " ({'good': True, 'afternoon': True}, 'Afternoon'),\n",
              " ({'annual': True, 'leav': True, 'count': True, 'remain': True},\n",
              "  'Balance-Annual-Leaves'),\n",
              " ({'mani': True, 'leav': True, 'remain': True},\n",
              "  'Default-Balance-Annual-Leaves'),\n",
              " ({'annual': True, 'leav': True, 'remain': True}, 'Balance-Annual-Leaves'),\n",
              " ({'annual': True, 'leav': True, 'count': True, 'remain': True},\n",
              "  'Balance-Annual-Leaves'),\n",
              " ({'carri': True, 'forward': True}, 'CF'),\n",
              " ({'mani': True, 'leav': True, 'take': True}, 'Default-Balance-Annual-Leaves'),\n",
              " ({'option': True, 'leav': True, 'taken': True}, 'Utilized-Optional-Leaves'),\n",
              " ({'mani': True, 'option': True, 'leav': True}, 'Utilized-Optional-Leaves'),\n",
              " ({'type': True, 'leav': True}, 'Leaves-Type'),\n",
              " ({'hello': True}, 'Greetings'),\n",
              " ({'number': True, 'option': True, 'leav': True, 'taken': True},\n",
              "  'Utilized-Optional-Leaves'),\n",
              " ({'type': True, 'leav': True}, 'Leaves-Type'),\n",
              " ({'annual': True, 'leav': True}, 'Utilized-Annual-Leaves'),\n",
              " ({'thank': True, 'much': True}, 'Closing'),\n",
              " ({'annual': True, 'leav': True, 'alreadi': True, 'taken': True},\n",
              "  'Utilized-Annual-Leaves'),\n",
              " ({'annual': True, 'leav': True, 'count': True, 'remain': True},\n",
              "  'Balance-Annual-Leaves'),\n",
              " ({'option': True, 'leav': True}, 'Balance-Optional-Leaves'),\n",
              " ({'option': True, 'leav': True}, 'Balance-Optional-Leaves'),\n",
              " ({'leav': True, 'type': True}, 'Leaves-Type'),\n",
              " ({'number': True, 'annual': True, 'leav': True, 'remain': True},\n",
              "  'Balance-Annual-Leaves'),\n",
              " ({'annual': True, 'leav': True}, 'Balance-Annual-Leaves'),\n",
              " ({'option': True, 'leav': True, 'count': True, 'use': True},\n",
              "  'Utilized-Optional-Leaves'),\n",
              " ({'option': True, 'leav': True}, 'Balance-Optional-Leaves'),\n",
              " ({'number': True, 'option': True, 'leav': True, 'taken': True},\n",
              "  'Utilized-Optional-Leaves'),\n",
              " ({'hey': True}, 'Greetings'),\n",
              " ({'annual': True, 'leav': True}, 'Balance-Annual-Leaves'),\n",
              " ({'number': True, 'carri': True, 'forward': True, 'leav': True}, 'CF'),\n",
              " ({'good': True, 'even': True}, 'Evening'),\n",
              " ({'option': True, 'leav': True, 'remain': True}, 'Balance-Optional-Leaves'),\n",
              " ({'number': True, 'annual': True, 'leav': True}, 'Utilized-Annual-Leaves'),\n",
              " ({'want': True, 'help': True}, 'Help'),\n",
              " ({'thank': True, 'help': True}, 'Closing'),\n",
              " ({'annual': True, 'leav': True, 'balanc': True}, 'Balance-Annual-Leaves'),\n",
              " ({'mani': True, 'type': True, 'leav': True}, 'Leaves-Type'),\n",
              " ({'annual': True, 'leav': True, 'balanc': True}, 'Balance-Annual-Leaves'),\n",
              " ({'hi': True}, 'Greetings'),\n",
              " ({'leav': True, 'pend': True}, 'Default-Balance-Annual-Leaves'),\n",
              " ({'option': True, 'leav': True, 'count': True, 'taken': True},\n",
              "  'Utilized-Optional-Leaves'),\n",
              " ({'mani': True, 'annual': True, 'leav': True, 'taken': True},\n",
              "  'Utilized-Annual-Leaves'),\n",
              " ({'great': True, 'talk': True}, 'Closing'),\n",
              " ({'number': True, 'option': True, 'leav': True, 'taken': True},\n",
              "  'Utilized-Optional-Leaves'),\n",
              " ({'mani': True, 'leav': True}, 'Default-Balance-Annual-Leaves'),\n",
              " ({'help': True}, 'Help'),\n",
              " ({'hi': True}, 'Greetings'),\n",
              " ({'remain': True, 'annual': True, 'leav': True}, 'Balance-Annual-Leaves'),\n",
              " ({'annual': True, 'leav': True, 'taken': True}, 'Utilized-Annual-Leaves'),\n",
              " ({'mani': True, 'annual': True, 'leav': True}, 'Utilized-Annual-Leaves'),\n",
              " ({'option': True, 'leav': True, 'count': True, 'taken': True},\n",
              "  'Utilized-Optional-Leaves'),\n",
              " ({'number': True, 'annual': True, 'leav': True, 'remain': True},\n",
              "  'Balance-Annual-Leaves'),\n",
              " ({'want': True, 'help': True}, 'No-Help'),\n",
              " ({'option': True, 'leav': True, 'count': True, 'remain': True},\n",
              "  'Balance-Optional-Leaves'),\n",
              " ({'leav': True}, 'Default-Balance-Annual-Leaves'),\n",
              " ({'mani': True, 'annual': True, 'leav': True, 'taken': True},\n",
              "  'Utilized-Annual-Leaves'),\n",
              " ({'remain': True, 'leav': True}, 'Default-Balance-Annual-Leaves'),\n",
              " ({'option': True, 'leav': True, 'count': True, 'use': True},\n",
              "  'Utilized-Optional-Leaves'),\n",
              " ({'good': True, 'morn': True}, 'Morning'),\n",
              " ({'tell': True, 'carri': True, 'forward': True, 'leav': True, 'count': True},\n",
              "  'CF'),\n",
              " ({'need': True, 'help': True}, 'Help'),\n",
              " ({'hey': True, 'hi': True}, 'Greetings'),\n",
              " ({'number': True, 'annual': True, 'leav': True}, 'Balance-Annual-Leaves')]"
            ]
          },
          "metadata": {},
          "execution_count": 75
        }
      ]
    },
    {
      "cell_type": "code",
      "source": [
        "testdata"
      ],
      "metadata": {
        "colab": {
          "base_uri": "https://localhost:8080/"
        },
        "id": "_UgWu1P3hFGi",
        "outputId": "f30272ea-cee2-48b3-e6c8-82c872067dca"
      },
      "execution_count": 76,
      "outputs": [
        {
          "output_type": "execute_result",
          "data": {
            "text/plain": [
              "[({'number': True, 'option': True, 'leav': True}, 'Balance-Optional-Leaves'),\n",
              " ({'great': True}, 'Closing'),\n",
              " ({'mani': True, 'option': True, 'leav': True}, 'Utilized-Optional-Leaves'),\n",
              " ({'mani': True, 'leav': True, 'taken': True},\n",
              "  'Default-Utilized-Annual-Leaves'),\n",
              " ({'hey': True, 'hello': True}, 'Greetings'),\n",
              " ({'mani': True, 'annual': True, 'leav': True}, 'Balance-Annual-Leaves'),\n",
              " ({'option': True, 'leav': True, 'count': True, 'taken': True},\n",
              "  'Utilized-Optional-Leaves'),\n",
              " ({'option': True, 'leav': True, 'count': True, 'remain': True},\n",
              "  'Balance-Optional-Leaves'),\n",
              " ({'option': True, 'leav': True, 'count': True, 'taken': True},\n",
              "  'Utilized-Optional-Leaves'),\n",
              " ({'annual': True, 'leav': True}, 'Balance-Annual-Leaves'),\n",
              " ({'annual': True, 'leav': True, 'count': True, 'taken': True},\n",
              "  'Utilized-Annual-Leaves'),\n",
              " ({'tell': True, 'carri': True, 'forward': True, 'leav': True}, 'CF'),\n",
              " ({'option': True, 'leav': True, 'count': True, 'remain': True},\n",
              "  'Balance-Optional-Leaves'),\n",
              " ({'thank': True}, 'Closing'),\n",
              " ({'option': True, 'leav': True, 'count': True, 'remain': True},\n",
              "  'Balance-Optional-Leaves'),\n",
              " ({'previous': True,\n",
              "   'year': True,\n",
              "   'carri': True,\n",
              "   'forward': True,\n",
              "   'leav': True},\n",
              "  'CF'),\n",
              " ({'number': True, 'option': True, 'leav': True}, 'Balance-Optional-Leaves'),\n",
              " ({'number': True, 'annual': True, 'leav': True, 'remain': True},\n",
              "  'Balance-Annual-Leaves'),\n",
              " ({'mani': True, 'option': True, 'leav': True}, 'Balance-Optional-Leaves'),\n",
              " ({'number': True,\n",
              "   'annual': True,\n",
              "   'leav': True,\n",
              "   'alreadi': True,\n",
              "   'taken': True},\n",
              "  'Utilized-Annual-Leaves'),\n",
              " ({'option': True, 'leav': True, 'alreadi': True, 'taken': True},\n",
              "  'Utilized-Optional-Leaves'),\n",
              " ({'tell': True,\n",
              "   'carri': True,\n",
              "   'forward': True,\n",
              "   'leav': True,\n",
              "   'previous': True,\n",
              "   'year': True},\n",
              "  'CF'),\n",
              " ({'carri': True, 'forward': True, 'leav': True}, 'CF'),\n",
              " ({'mani': True, 'option': True, 'leav': True, 'remain': True},\n",
              "  'Balance-Optional-Leaves'),\n",
              " ({'leav': True, 'balanc': True}, 'Default-Balance-Annual-Leaves'),\n",
              " ({'mani': True, 'leav': True, 'alreadi': True, 'taken': True},\n",
              "  'Default-Utilized-Annual-Leaves'),\n",
              " ({'option': True, 'leav': True, 'balanc': True}, 'Balance-Optional-Leaves'),\n",
              " ({'annual': True, 'leav': True, 'taken': True}, 'Utilized-Annual-Leaves'),\n",
              " ({'number': True, 'option': True, 'leav': True, 'remain': True},\n",
              "  'Balance-Optional-Leaves')]"
            ]
          },
          "metadata": {},
          "execution_count": 76
        }
      ]
    },
    {
      "cell_type": "code",
      "source": [
        "trainingdata[1]"
      ],
      "metadata": {
        "colab": {
          "base_uri": "https://localhost:8080/"
        },
        "id": "TmCBo9MkhNI-",
        "outputId": "63238b0d-1bf0-4b91-9e6e-9fc0851beb76"
      },
      "execution_count": 78,
      "outputs": [
        {
          "output_type": "execute_result",
          "data": {
            "text/plain": [
              "({'taken': True, 'annual': True, 'leav': True}, 'Utilized-Annual-Leaves')"
            ]
          },
          "metadata": {},
          "execution_count": 78
        }
      ]
    },
    {
      "cell_type": "code",
      "source": [
        "np.save('training_data',trainingdata)\n",
        "np.save('test_data',testdata)"
      ],
      "metadata": {
        "id": "-wtJBJr2iJvW"
      },
      "execution_count": 80,
      "outputs": []
    },
    {
      "cell_type": "code",
      "source": [
        "def train_using_decision_tree(trainingdata,testdata):\n",
        "  classifier=nltk.classify.DecisionTreeClassifier.train(trainingdata,entropy_cutoff=0.6,support_cutoff=6)\n",
        "  classifier_name=type(classifier).__name__\n",
        "  trainingset_accuracy=nltk.classify.accuracy(classifier,trainingdata)\n",
        "  print('training_set_accuracy',trainingset_accuracy)\n",
        "  testset_accuracy=nltk.classify.accuracy(classifier,testdata)\n",
        "  print('test_set_accuracy',testset_accuracy)\n",
        "  return classifier,classifier_name,testset_accuracy,trainingset_accuracy"
      ],
      "metadata": {
        "id": "n91LBJGNn634"
      },
      "execution_count": 81,
      "outputs": []
    },
    {
      "cell_type": "code",
      "source": [
        "dtclassifier,classifier_name,testset_accuracy,trainingset_accuracy=train_using_decision_tree(trainingdata,testdata)"
      ],
      "metadata": {
        "colab": {
          "base_uri": "https://localhost:8080/"
        },
        "id": "QbWucehj1ptl",
        "outputId": "e80171b3-790f-45b1-ff8d-6ebf49aca12c"
      },
      "execution_count": 82,
      "outputs": [
        {
          "output_type": "stream",
          "name": "stdout",
          "text": [
            "training_set_accuracy 0.8947368421052632\n",
            "test_set_accuracy 0.7931034482758621\n"
          ]
        }
      ]
    },
    {
      "cell_type": "code",
      "source": [
        "dtclassifier"
      ],
      "metadata": {
        "colab": {
          "base_uri": "https://localhost:8080/"
        },
        "id": "3PTAgT1u2Ctr",
        "outputId": "e97a0105-f25c-434d-cb9f-325ad544bee0"
      },
      "execution_count": 83,
      "outputs": [
        {
          "output_type": "execute_result",
          "data": {
            "text/plain": [
              "<nltk.classify.decisiontree.DecisionTreeClassifier at 0x7c96297d6110>"
            ]
          },
          "metadata": {},
          "execution_count": 83
        }
      ]
    },
    {
      "cell_type": "code",
      "source": [
        "classifier_name"
      ],
      "metadata": {
        "colab": {
          "base_uri": "https://localhost:8080/",
          "height": 35
        },
        "id": "U2_irB4o2KM_",
        "outputId": "3bf1bbc6-539b-4e72-aca6-12dc9593dc75"
      },
      "execution_count": 84,
      "outputs": [
        {
          "output_type": "execute_result",
          "data": {
            "text/plain": [
              "'DecisionTreeClassifier'"
            ],
            "application/vnd.google.colaboratory.intrinsic+json": {
              "type": "string"
            }
          },
          "metadata": {},
          "execution_count": 84
        }
      ]
    },
    {
      "cell_type": "code",
      "source": [
        "def train_using_naivebayes(trainingdata,testdata):\n",
        "  classifier=nltk.NaiveBayesClassifier.train(trainingdata)\n",
        "  classifier_name=type(classifier).__name__\n",
        "  trainingset_accuracy=nltk.classify.accuracy(classifier,trainingdata)\n",
        "  testset_accuracy=nltk.classify.accuracy(classifier,testdata)\n",
        "  return classifier,classifier_name,testset_accuracy,trainingset_accuracy\n"
      ],
      "metadata": {
        "id": "yYFDHi003yOm"
      },
      "execution_count": 87,
      "outputs": []
    },
    {
      "cell_type": "code",
      "source": [
        "classifier,classifier_name,testset_accuracy,trainingset_accuracy=train_using_naivebayes(trainingdata,testdata)"
      ],
      "metadata": {
        "id": "8rOtxp2C8wzm"
      },
      "execution_count": 88,
      "outputs": []
    },
    {
      "cell_type": "code",
      "source": [
        "print(trainingset_accuracy)\n",
        "print(testset_accuracy)\n",
        "print(len(classifier.most_informative_features()))\n",
        "classifier.show_most_informative_features()"
      ],
      "metadata": {
        "colab": {
          "base_uri": "https://localhost:8080/"
        },
        "id": "QKeWlUYU8_JW",
        "outputId": "a5c57802-d39b-4938-eef0-82a6a302f16a"
      },
      "execution_count": 89,
      "outputs": [
        {
          "output_type": "stream",
          "name": "stdout",
          "text": [
            "0.8771929824561403\n",
            "0.7586206896551724\n",
            "72\n",
            "Most Informative Features\n",
            "                    leav = None           Greeti : Balanc =     10.1 : 1.0\n",
            "                    mani = True           Defaul : Balanc =      4.9 : 1.0\n",
            "                   thank = None           Utiliz : Closin =      3.9 : 1.0\n",
            "                    help = True             Help : Closin =      3.5 : 1.0\n",
            "                   taken = None           Balanc : Utiliz =      3.3 : 1.0\n",
            "                 alreadi = True           Utiliz : Utiliz =      3.2 : 1.0\n",
            "                   count = True           Balanc : Balanc =      3.1 : 1.0\n",
            "                  remain = None           Utiliz : Balanc =      2.9 : 1.0\n",
            "                      hi = None           Utiliz : Greeti =      2.8 : 1.0\n",
            "                    help = None           Utiliz : No-Hel =      2.6 : 1.0\n"
          ]
        }
      ]
    },
    {
      "cell_type": "code",
      "source": [],
      "metadata": {
        "id": "nta8nr2B-CEq"
      },
      "execution_count": null,
      "outputs": []
    },
    {
      "cell_type": "code",
      "source": [
        "classifier.classify(({'mani':True,'option':True,'leav':True}))"
      ],
      "metadata": {
        "colab": {
          "base_uri": "https://localhost:8080/",
          "height": 35
        },
        "id": "0nFeou4R9duR",
        "outputId": "c908c085-2141-4d1e-b056-55a76bfb1f4b"
      },
      "execution_count": 90,
      "outputs": [
        {
          "output_type": "execute_result",
          "data": {
            "text/plain": [
              "'Utilized-Optional-Leaves'"
            ],
            "application/vnd.google.colaboratory.intrinsic+json": {
              "type": "string"
            }
          },
          "metadata": {},
          "execution_count": 90
        }
      ]
    },
    {
      "cell_type": "code",
      "source": [
        "trainingdata[2]"
      ],
      "metadata": {
        "colab": {
          "base_uri": "https://localhost:8080/"
        },
        "id": "QOwWTZcO-F2Y",
        "outputId": "e5e396e4-66cf-4383-bc4b-4497450fb8f6"
      },
      "execution_count": 91,
      "outputs": [
        {
          "output_type": "execute_result",
          "data": {
            "text/plain": [
              "({'annual': True, 'leav': True, 'remain': True}, 'Balance-Annual-Leaves')"
            ]
          },
          "metadata": {},
          "execution_count": 91
        }
      ]
    },
    {
      "cell_type": "code",
      "source": [
        "classifier.classify(({'annual': True, 'leav': True, 'remain': True}))"
      ],
      "metadata": {
        "colab": {
          "base_uri": "https://localhost:8080/",
          "height": 35
        },
        "id": "CALS8dJZ-JWz",
        "outputId": "0712d7f3-fc4d-4f7a-d01c-c901d1b34f62"
      },
      "execution_count": 92,
      "outputs": [
        {
          "output_type": "execute_result",
          "data": {
            "text/plain": [
              "'Balance-Annual-Leaves'"
            ],
            "application/vnd.google.colaboratory.intrinsic+json": {
              "type": "string"
            }
          },
          "metadata": {},
          "execution_count": 92
        }
      ]
    },
    {
      "cell_type": "code",
      "source": [
        "input_sentence = \"how many balanced leaves do I have?\"\n",
        "classifier.classify(word_feats(extract_feature(input_sentence)))"
      ],
      "metadata": {
        "colab": {
          "base_uri": "https://localhost:8080/",
          "height": 35
        },
        "id": "5pvHg5Vs-SOM",
        "outputId": "3e452e7d-4a50-49cf-f9e4-2682901fb492"
      },
      "execution_count": 93,
      "outputs": [
        {
          "output_type": "execute_result",
          "data": {
            "text/plain": [
              "'Utilized-Optional-Leaves'"
            ],
            "application/vnd.google.colaboratory.intrinsic+json": {
              "type": "string"
            }
          },
          "metadata": {},
          "execution_count": 93
        }
      ]
    },
    {
      "cell_type": "code",
      "source": [
        "def reply(input_sentence):\n",
        "  category=dtclassifier.classify(word_feats(extract_feature(input_sentence)))\n",
        "  return answers[category]\n"
      ],
      "metadata": {
        "id": "8iEgZP5v-4mr"
      },
      "execution_count": 94,
      "outputs": []
    },
    {
      "cell_type": "code",
      "source": [
        "reply(input_sentence)"
      ],
      "metadata": {
        "colab": {
          "base_uri": "https://localhost:8080/",
          "height": 35
        },
        "id": "TEGCWU5SAg5B",
        "outputId": "71b1f3a6-893a-4fa2-e261-af6783ed81b1"
      },
      "execution_count": 95,
      "outputs": [
        {
          "output_type": "execute_result",
          "data": {
            "text/plain": [
              "'You have 25 annual leaves left.'"
            ],
            "application/vnd.google.colaboratory.intrinsic+json": {
              "type": "string"
            }
          },
          "metadata": {},
          "execution_count": 95
        }
      ]
    },
    {
      "cell_type": "code",
      "source": [
        "reply('How many leaves have I taken?')"
      ],
      "metadata": {
        "colab": {
          "base_uri": "https://localhost:8080/",
          "height": 35
        },
        "id": "Hy4oIhDTAkxh",
        "outputId": "2567d9a7-f315-4eed-bff9-79aed59d5108"
      },
      "execution_count": 96,
      "outputs": [
        {
          "output_type": "execute_result",
          "data": {
            "text/plain": [
              "'You have 25 annual leaves left.'"
            ],
            "application/vnd.google.colaboratory.intrinsic+json": {
              "type": "string"
            }
          },
          "metadata": {},
          "execution_count": 96
        }
      ]
    },
    {
      "cell_type": "code",
      "source": [
        "reply('Thanks!')"
      ],
      "metadata": {
        "colab": {
          "base_uri": "https://localhost:8080/",
          "height": 35
        },
        "id": "Eeb9ZqTbA1an",
        "outputId": "734339e9-fb9c-443e-bdb9-0e924c327030"
      },
      "execution_count": 97,
      "outputs": [
        {
          "output_type": "execute_result",
          "data": {
            "text/plain": [
              "\"It's glad to know that I have been helpful. Have a good day!\""
            ],
            "application/vnd.google.colaboratory.intrinsic+json": {
              "type": "string"
            }
          },
          "metadata": {},
          "execution_count": 97
        }
      ]
    },
    {
      "cell_type": "code",
      "source": [],
      "metadata": {
        "id": "ycmBP9EvA4pz"
      },
      "execution_count": null,
      "outputs": []
    }
  ]
}